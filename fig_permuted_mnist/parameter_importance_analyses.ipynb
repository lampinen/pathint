{
 "cells": [
  {
   "cell_type": "markdown",
   "metadata": {},
   "source": [
    "# Libraries, parameters"
   ]
  },
  {
   "cell_type": "code",
   "execution_count": 1,
   "metadata": {},
   "outputs": [],
   "source": [
    "%load_ext rpy2.ipython \n",
    "\n",
    "import numpy as np\n",
    "import pickle\n",
    "import gzip\n",
    "import pandas as pd"
   ]
  },
  {
   "cell_type": "code",
   "execution_count": 2,
   "metadata": {},
   "outputs": [],
   "source": [
    "# Optimization params\n",
    "batch_size = 256\n",
    "epochs_per_task = 20 \n",
    "learning_rate=1e-3\n",
    "n_tasks = 10\n",
    "\n",
    "opt_name = 'adam'\n",
    "\n",
    "importance_metric = \"fishers\"\n",
    "\n",
    "protocols = [\"fisher[omega_decay=sum]\", \"path_int[omega_decay=sum,xi=0.1]\", \"unregularized[replay_prior=True]\", \"unregularized[replay_prior=False]\"]"
   ]
  },
  {
   "cell_type": "markdown",
   "metadata": {},
   "source": [
    "# Data loading and quick analyses"
   ]
  },
  {
   "cell_type": "code",
   "execution_count": 3,
   "metadata": {},
   "outputs": [],
   "source": [
    "# for each layers weights, what is the correlation between the importance\n",
    "# measures of a weight on one task and another? Positive correlations mean\n",
    "# weights are generally being reused, negative means weights are being\n",
    "# split up between tasks without much knowledge sharing.\n",
    "results = {'protocol': [],\n",
    "           'cval': [],\n",
    "           'parameter_array': [],\n",
    "           'age_1': [],\n",
    "           'age_2': [],\n",
    "           'importance_correlation': []\n",
    "          }\n",
    "\n",
    "for protocol in protocols:\n",
    "    filename = \"data_%s_opt%s_lr%.2e_bs%i_ep%i_tsks%i_%s.pkl.gz\" % (protocol, opt_name, learning_rate, batch_size, epochs_per_task, n_tasks, importance_metric)\n",
    "    with gzip.open(filename, 'rb') as f:\n",
    "        loaded_data = pickle.load(f)\n",
    "        for cval in loaded_data.keys():\n",
    "            for layer in loaded_data[cval].keys():\n",
    "                these_importances = [np.ndarray.flatten(x) for x in loaded_data[cval][layer]]\n",
    "                age_1s = []\n",
    "                age_2s = []\n",
    "                correlations = []\n",
    "                for age_1 in range(n_tasks - 1):\n",
    "                    for age_2 in range(age_1 + 1, n_tasks):\n",
    "                        correlation = np.corrcoef(these_importances[age_1], these_importances[age_2])[0, 1]\n",
    "                        correlations.append(correlation)\n",
    "                        age_1s.append(age_1)\n",
    "                        age_2s.append(age_2)\n",
    "                results['protocol'].extend([protocol] * len(correlations))\n",
    "                results['cval'].extend([cval] * len(correlations))\n",
    "                results['parameter_array'].extend([layer] * len(correlations))\n",
    "                results['age_1'].extend(age_1s)\n",
    "                results['age_2'].extend(age_2s)\n",
    "                results['importance_correlation'].extend(correlations)\n",
    "                \n",
    "                \n",
    "                        \n",
    "                "
   ]
  },
  {
   "cell_type": "code",
   "execution_count": 4,
   "metadata": {},
   "outputs": [],
   "source": [
    "#print(results)\n",
    "results = pd.DataFrame(results)"
   ]
  },
  {
   "cell_type": "code",
   "execution_count": 13,
   "metadata": {},
   "outputs": [],
   "source": [
    "%%R -i results -w 10 -h 10 --units in -r 200\n",
    "library(tidyverse)\n",
    "theme_set(theme_bw() +\n",
    "          theme(panel.grid=element_blank()))\n",
    "\n",
    "ggplot(results %>% \n",
    "         filter(grepl('unregularized', protocol) | cval==0.1), \n",
    "       aes(x=importance_correlation, color=protocol)) +\n",
    "    geom_density() +\n",
    "    facet_grid(. ~ parameter_array) +\n",
    "    scale_x_continuous(breaks=c(-0.5, 0., 0.5, 1.),\n",
    "                       limits=c(-0.5, 1.)) +\n",
    "    scale_color_brewer(palette=\"Dark2\")\n",
    "\n",
    "ggsave(\"importance_correlations_by_method.png\", width=10, height=5)\n",
    "\n",
    "ggplot(results %>% \n",
    "         filter(grepl('unregularized', protocol) | cval==0.1), \n",
    "       aes(x=importance_correlation, color=protocol)) +\n",
    "    geom_density() +\n",
    "    facet_grid(protocol + cval ~ parameter_array) +\n",
    "    scale_x_continuous(breaks=c(-0.5, 0., 0.5, 1.),\n",
    "                       limits=c(-0.5, 1.)) +\n",
    "    scale_color_brewer(palette=\"Dark2\")\n",
    "\n",
    "ggsave(\"importance_correlations_by_method_spread.png\", width=10, height=10)\n",
    "\n"
   ]
  }
 ],
 "metadata": {
  "kernelspec": {
   "display_name": "Python 3",
   "language": "python",
   "name": "python3"
  },
  "language_info": {
   "codemirror_mode": {
    "name": "ipython",
    "version": 3
   },
   "file_extension": ".py",
   "mimetype": "text/x-python",
   "name": "python",
   "nbconvert_exporter": "python",
   "pygments_lexer": "ipython3",
   "version": "3.5.2"
  }
 },
 "nbformat": 4,
 "nbformat_minor": 2
}
