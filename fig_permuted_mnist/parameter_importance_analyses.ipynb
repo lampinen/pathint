{
 "cells": [
  {
   "cell_type": "markdown",
   "metadata": {},
   "source": [
    "# Libraries, parameters"
   ]
  },
  {
   "cell_type": "code",
   "execution_count": 1,
   "metadata": {
    "collapsed": true
   },
   "outputs": [],
   "source": [
    "%load_ext rpy2.ipython \n",
    "\n",
    "import numpy as np\n",
    "import pickle\n",
    "import gzip\n",
    "import pandas as pd"
   ]
  },
  {
   "cell_type": "code",
   "execution_count": 3,
   "metadata": {
    "collapsed": true
   },
   "outputs": [],
   "source": [
    "# Optimization params\n",
    "batch_size = 256\n",
    "epochs_per_task = 20 \n",
    "learning_rate=1e-3\n",
    "n_tasks = 10\n",
    "\n",
    "opt_name = 'adam'\n",
    "\n",
    "importance_metric = \"fishers\"\n",
    "\n",
    "protocols = [\"fisher[omega_decay=sum]\", \"path_int[omega_decay=sum,xi=0.1]\", \"unregularized[replay_prior=True]\", \"unregularized[replay_prior=False]\"]"
   ]
  },
  {
   "cell_type": "markdown",
   "metadata": {},
   "source": [
    "# Data loading and quick analyses of importance correlations"
   ]
  },
  {
   "cell_type": "code",
   "execution_count": 4,
   "metadata": {
    "collapsed": true
   },
   "outputs": [],
   "source": [
    "# for each layers weights, what is the correlation between the importance\n",
    "# measures of a weight on one task and another? Positive correlations mean\n",
    "# weights are generally being reused, negative means weights are being\n",
    "# split up between tasks without much knowledge sharing.\n",
    "results = {'protocol': [],\n",
    "           'cval': [],\n",
    "           'parameter_array': [],\n",
    "           'age_1': [],\n",
    "           'age_2': [],\n",
    "           'importance_correlation': []\n",
    "          }\n",
    "\n",
    "for protocol in protocols:\n",
    "    filename = \"data_%s_opt%s_lr%.2e_bs%i_ep%i_tsks%i_%s.pkl.gz\" % (protocol, opt_name, learning_rate, batch_size, epochs_per_task, n_tasks, importance_metric)\n",
    "    with gzip.open(filename, 'rb') as f:\n",
    "        loaded_data = pickle.load(f)\n",
    "        for cval in loaded_data.keys():\n",
    "            for layer in loaded_data[cval].keys():\n",
    "                these_importances = [np.ndarray.flatten(x) for x in loaded_data[cval][layer]]\n",
    "                age_1s = []\n",
    "                age_2s = []\n",
    "                correlations = []\n",
    "                for age_1 in range(n_tasks - 1):\n",
    "                    for age_2 in range(age_1 + 1, n_tasks):\n",
    "                        correlation = np.corrcoef(these_importances[age_1], these_importances[age_2])[0, 1]\n",
    "                        correlations.append(correlation)\n",
    "                        age_1s.append(age_1)\n",
    "                        age_2s.append(age_2)\n",
    "                results['protocol'].extend([protocol] * len(correlations))\n",
    "                results['cval'].extend([cval] * len(correlations))\n",
    "                results['parameter_array'].extend([layer] * len(correlations))\n",
    "                results['age_1'].extend(age_1s)\n",
    "                results['age_2'].extend(age_2s)\n",
    "                results['importance_correlation'].extend(correlations)\n",
    "                \n",
    "                \n",
    "                        \n",
    "                "
   ]
  },
  {
   "cell_type": "code",
   "execution_count": 5,
   "metadata": {
    "collapsed": true
   },
   "outputs": [],
   "source": [
    "#print(results)\n",
    "results = pd.DataFrame(results)"
   ]
  },
  {
   "cell_type": "code",
   "execution_count": 41,
   "metadata": {
    "scrolled": false
   },
   "outputs": [],
   "source": [
    "%%R -i results -w 10 -h 10 --units in -r 200\n",
    "library(tidyverse)\n",
    "theme_set(theme_bw() +\n",
    "          theme(panel.grid=element_blank()))\n",
    "\n",
    "#print(results %>% \n",
    "#    filter(importance_correlation < 0))\n",
    "\n",
    "ggplot(results %>% \n",
    "         filter(grepl('unregularized', protocol) | cval==0.1), \n",
    "       aes(x=importance_correlation, color=protocol)) +\n",
    "    geom_density() +\n",
    "    facet_grid(. ~ parameter_array) +\n",
    "    scale_x_continuous(breaks=c(-0.5, 0., 0.5, 1.),\n",
    "                       limits=c(-0.5, 1.)) +\n",
    "    scale_color_brewer(palette=\"Dark2\")\n",
    "\n",
    "ggsave(\"importance_correlations_by_method.png\", width=10, height=5)\n",
    "\n",
    "ggplot(results %>% \n",
    "         filter(grepl('unregularized', protocol) | cval==0.1), \n",
    "       aes(x=importance_correlation, color=protocol)) +\n",
    "    geom_density() +\n",
    "    facet_grid(protocol + cval ~ parameter_array) +\n",
    "    scale_x_continuous(breaks=c(-0.5, 0., 0.5, 1.),\n",
    "                       limits=c(-0.5, 1.)) +\n",
    "    scale_color_brewer(palette=\"Dark2\")\n",
    "\n",
    "ggsave(\"importance_correlations_by_method_spread.png\", width=10, height=10)\n",
    "\n",
    "ggplot(results %>% \n",
    "         filter(grepl('unregularized', protocol) | cval==0.1) %>%\n",
    "         group_by(age_1, age_2, protocol, cval, parameter_array) %>%\n",
    "         summarize(mean_importance_correlation=mean(importance_correlation)) %>% \n",
    "         ungroup(),\n",
    "       aes(x=age_1, y=age_2, fill=mean_importance_correlation)) +\n",
    "    geom_raster() +\n",
    "    facet_grid(protocol + cval ~ parameter_array) +\n",
    "    scale_fill_distiller(palette=\"RdBu\", values=c(-1, 1))\n",
    "\n",
    "ggsave(\"importance_correlations_by_method_age.png\", width=15, height=10)\n"
   ]
  },
  {
   "cell_type": "markdown",
   "metadata": {},
   "source": [
    "# Data loading and quick analyses of peformance"
   ]
  },
  {
   "cell_type": "code",
   "execution_count": 18,
   "metadata": {
    "collapsed": true
   },
   "outputs": [],
   "source": [
    "# for each layers weights, what is the correlation between the importance\n",
    "# measures of a weight on one task and another? Positive correlations mean\n",
    "# weights are generally being reused, negative means weights are being\n",
    "# split up between tasks without much knowledge sharing.\n",
    "perf_results = {'protocol': [],\n",
    "           'cval': [],\n",
    "           'parameter_array': [],\n",
    "           'age': [],\n",
    "           'task': [],\n",
    "           'accuracy': []\n",
    "          }\n",
    "\n",
    "for protocol in protocols:\n",
    "    filename = \"data_%s_opt%s_lr%.2e_bs%i_ep%i_tsks%i.pkl.gz\" % (protocol, opt_name, learning_rate, batch_size, epochs_per_task, n_tasks)\n",
    "    with gzip.open(filename, 'rb') as f:\n",
    "        loaded_data = pickle.load(f)\n",
    "        for cval, raw_accuracies in loaded_data.items():\n",
    "            accuracies = []\n",
    "            ages = []\n",
    "            tasks = []\n",
    "            # could be more efficient\n",
    "            for age in range(n_tasks):\n",
    "                for task in range(n_tasks):\n",
    "                    accuracies.append(raw_accuracies[age][task])\n",
    "                    ages.append(age)\n",
    "                    tasks.append(task)\n",
    "            perf_results['protocol'].extend([protocol] * len(accuracies))\n",
    "            perf_results['cval'].extend([cval] * len(accuracies))\n",
    "            perf_results['parameter_array'].extend([layer] * len(accuracies))\n",
    "            perf_results['age'].extend(ages)\n",
    "            perf_results['task'].extend(tasks)\n",
    "            perf_results['accuracy'].extend(accuracies)\n",
    "                \n",
    "                \n",
    "                        \n",
    "                "
   ]
  },
  {
   "cell_type": "code",
   "execution_count": 19,
   "metadata": {
    "collapsed": true
   },
   "outputs": [],
   "source": [
    "#print(results)\n",
    "perf_results = pd.DataFrame(perf_results)"
   ]
  },
  {
   "cell_type": "code",
   "execution_count": 28,
   "metadata": {
    "collapsed": true
   },
   "outputs": [],
   "source": [
    "%%R -i perf_results -w 10 -h 10 --units in -r 200\n",
    "library(tidyverse)\n",
    "theme_set(theme_bw() +\n",
    "          theme(panel.grid=element_blank()))\n",
    "\n",
    "g = ggplot(perf_results %>% \n",
    "         filter(grepl('unregularized', protocol) | cval==0.1), \n",
    "       aes(x=age, y=accuracy, color=protocol)) +\n",
    "    geom_line() +\n",
    "    geom_point() +\n",
    "\n",
    "    facet_wrap(. ~ task) +\n",
    "    scale_color_brewer(palette=\"Dark2\")\n",
    "\n",
    "ggsave(\"accuracy_by_method.png\", g, width=8, height=8)\n",
    "\n",
    "g2 = g + \n",
    "  ylim(0.9, 1)\n",
    "\n",
    "ggsave(\"accuracy_by_method_zoomed_in.png\", g2, width=8, height=8)\n",
    "\n"
   ]
  }
 ],
 "metadata": {
  "kernelspec": {
   "display_name": "Python 3",
   "language": "python",
   "name": "python3"
  },
  "language_info": {
   "codemirror_mode": {
    "name": "ipython",
    "version": 3
   },
   "file_extension": ".py",
   "mimetype": "text/x-python",
   "name": "python",
   "nbconvert_exporter": "python",
   "pygments_lexer": "ipython3",
   "version": "3.5.2"
  }
 },
 "nbformat": 4,
 "nbformat_minor": 2
}
